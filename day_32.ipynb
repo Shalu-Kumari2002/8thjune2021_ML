{
 "cells": [
  {
   "cell_type": "markdown",
   "metadata": {},
   "source": [
    "### so today we are gonna learn something new "
   ]
  },
  {
   "cell_type": "markdown",
   "metadata": {},
   "source": [
    "# Today we will learn Natural Language Processing "
   ]
  },
  {
   "cell_type": "markdown",
   "metadata": {},
   "source": [
    "# <b> Natural Language Processing "
   ]
  },
  {
   "cell_type": "markdown",
   "metadata": {},
   "source": [
    "###### Text based Data "
   ]
  },
  {
   "cell_type": "markdown",
   "metadata": {},
   "source": [
    "###### Text Processing"
   ]
  },
  {
   "cell_type": "markdown",
   "metadata": {},
   "source": [
    "##### Why text processing in diff way ????????????????????????-----will see"
   ]
  },
  {
   "cell_type": "markdown",
   "metadata": {},
   "source": [
    "#### <p style=\"color:blue\">Those languages which we understand needs to be processed by a computer </p>"
   ]
  },
  {
   "cell_type": "markdown",
   "metadata": {},
   "source": [
    "##### <p style=\"color:red\">For a computer the word is justa data not meaning</p>"
   ]
  },
  {
   "cell_type": "markdown",
   "metadata": {},
   "source": [
    "### <p style=\"color:yellow\">What a word signifies </p>"
   ]
  },
  {
   "cell_type": "markdown",
   "metadata": {},
   "source": [
    "### <p style=\"color:brown\">Can a computer decide the meaning behind a data -- is it possible yes -- there are so many exampless --- like truecaller - which detects the name and location of the caller-----Using DataBase -- also it helps to find out spammers -- how it detects that --- defininetly it is  using company numbers as it is diff from other numbers   </p>"
   ]
  },
  {
   "cell_type": "markdown",
   "metadata": {},
   "source": [
    "#### <p style=\"color:red\">But if someone is sending me messages continuously then can a computer can detect it ------The answer is YES it can  </p>"
   ]
  },
  {
   "cell_type": "markdown",
   "metadata": {},
   "source": [
    "##### <p style=\"color:yellow\">WE USE TEXT EVERYWHEHERE - FOR COMMUNICATION EITHER WITH HUMANS OR MACHINES OR DEVICES OR SO MANY THINGS  </p>"
   ]
  },
  {
   "cell_type": "markdown",
   "metadata": {},
   "source": [
    "## <p style=\"color:yellow\">soME rEAL tIME ONES--CORTONA,SIRI,GMAIL,AND MANY MORE --JARVIS OF IRON MAN </p>"
   ]
  },
  {
   "cell_type": "markdown",
   "metadata": {},
   "source": [
    "### <p style=\"color:yellow\">ULTIMATELY IN EVERY SENTENCE WE HAVE ONE FEATURE --- LOGIC IN EVERYTHING  </p>"
   ]
  },
  {
   "cell_type": "markdown",
   "metadata": {},
   "source": [
    "#### <p style=\"color:yellow\">Feature mane one important word which will make us understand </p>"
   ]
  },
  {
   "cell_type": "markdown",
   "metadata": {},
   "source": [
    "### <p style=\"color:black\">We haev to install the PIP INSTALL NLTK --- IMPORT NLTK,NLTK.DOWNLOAD(</p>"
   ]
  },
  {
   "cell_type": "code",
   "execution_count": 14,
   "metadata": {},
   "outputs": [
    {
     "name": "stdout",
     "output_type": "stream",
     "text": [
      "Requirement already satisfied: nltk in c:\\users\\shalu kumari\\ml\\lib\\site-packages (3.5)\n",
      "Requirement already satisfied: tqdm in c:\\users\\shalu kumari\\ml\\lib\\site-packages (from nltk) (4.47.0)\n",
      "Requirement already satisfied: joblib in c:\\users\\shalu kumari\\ml\\lib\\site-packages (from nltk) (0.16.0)\n",
      "Requirement already satisfied: regex in c:\\users\\shalu kumari\\ml\\lib\\site-packages (from nltk) (2020.6.8)\n",
      "Requirement already satisfied: click in c:\\users\\shalu kumari\\ml\\lib\\site-packages (from nltk) (7.1.2)\n"
     ]
    }
   ],
   "source": [
    "!pip install nltk"
   ]
  },
  {
   "cell_type": "code",
   "execution_count": 19,
   "metadata": {},
   "outputs": [
    {
     "name": "stdout",
     "output_type": "stream",
     "text": [
      "showing info https://raw.githubusercontent.com/nltk/nltk_data/gh-pages/index.xml\n"
     ]
    },
    {
     "data": {
      "text/plain": [
       "True"
      ]
     },
     "execution_count": 19,
     "metadata": {},
     "output_type": "execute_result"
    }
   ],
   "source": [
    "import nltk\n",
    "nltk.download()"
   ]
  },
  {
   "cell_type": "code",
   "execution_count": 17,
   "metadata": {},
   "outputs": [
    {
     "data": {
      "text/plain": [
       "4"
      ]
     },
     "execution_count": 17,
     "metadata": {},
     "output_type": "execute_result"
    }
   ],
   "source": [
    "b = 2+a\n",
    "b"
   ]
  },
  {
   "cell_type": "markdown",
   "metadata": {},
   "source": [
    "    Sentence tokenization--- SMS -- bohot sare aaye -- ek aisi model banayenge jo pehle hi bata de ki ye sms spam hai \n",
    "    It says that -- it take each sentence  individually \n",
    "    word tokensation-- it actually take each word seperately \n",
    "    text Lemmatization and stemming--we can modify it that is limit and stemming-- it actually searches for proper root ---jese ke word ajustable ka root word hai adjust \n",
    "    ---good better best isme root word hai good (in degrees of words pe )---ye kam karta hai stemming "
   ]
  },
  {
   "cell_type": "markdown",
   "metadata": {},
   "source": [
    "STOP WORDSS --- i can remove stop words -- such as i , we , we will , --- it totally depends what we are making in actual "
   ]
  },
  {
   "cell_type": "markdown",
   "metadata": {},
   "source": [
    "Regualar Expresions - Regex --- String words like password (string problems) --- like we can find the pattern in anything - like password -- and all -----Regualar expressions -check on python org--- punctuation -- \n",
    "Bag of words --- sm1,sm2,sms3, notes jo aaye last me -- jese 30000 words -- har ek word ke liye ek table banaya ja sakta hai --- word1 1 msg 1 me hai kya"
   ]
  },
  {
   "cell_type": "markdown",
   "metadata": {},
   "source": [
    "##### TF-IDF ---- Term freq inverse doc freq --- it can bring up the importance of every word \n",
    "----ML- konsi algorithm -- dekhte hai -- another algoo --- Naive -Bayes algorithm -- dedicately used for text based data ---- this algo is much suitable for text based data"
   ]
  },
  {
   "cell_type": "code",
   "execution_count": null,
   "metadata": {
    "jupyter": {
     "source_hidden": true
    }
   },
   "outputs": [],
   "source": [
    "Term is that particular word \n",
    "message - document \n",
    "TF - no of time the word appeared in a document / total no of items in the doc\n",
    "Naive ------similarity --"
   ]
  }
 ],
 "metadata": {
  "kernelspec": {
   "display_name": "Python 3",
   "language": "python",
   "name": "python3"
  },
  "language_info": {
   "codemirror_mode": {
    "name": "ipython",
    "version": 3
   },
   "file_extension": ".py",
   "mimetype": "text/x-python",
   "name": "python",
   "nbconvert_exporter": "python",
   "pygments_lexer": "ipython3",
   "version": "3.8.3"
  }
 },
 "nbformat": 4,
 "nbformat_minor": 4
}
