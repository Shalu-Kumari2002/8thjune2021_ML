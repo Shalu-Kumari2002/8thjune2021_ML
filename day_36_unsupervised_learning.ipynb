{
 "cells": [
  {
   "cell_type": "markdown",
   "metadata": {},
   "source": [
    "# Unsupervised learning is used for grouping and finding patterns on data \n"
   ]
  },
  {
   "cell_type": "markdown",
   "metadata": {},
   "source": [
    "There are two algo in USL - Kmeans algo \n",
    "                        <br> SOM \n",
    "                        <br> PCA \n",
    "                        <br>\n",
    "                        we are just finding the pattern nothing more is there --- and since we don't have label so we can't verify whether we are right<br>Let us suppose that we made scatter plot and we have to find pattern<br>Like can be make bunches -- or then catergorise\n",
    "    We start categorising based on some features -- like based on color or based on look or based on no of pins and configurations<br> and this is what feature are made for -<br> kmeans does that it makes clusters -- it clusters the data<br>\n",
    " ********* But then how many groups of clusters we want to be with <br></t> ######### Assume n_clusters = 3 - so i made label based on their features<br>"
   ]
  },
  {
   "cell_type": "markdown",
   "metadata": {},
   "source": [
    "------ Randome allocation of group is done --  and then it finds the mean of each group"
   ]
  },
  {
   "cell_type": "markdown",
   "metadata": {},
   "source": [
    "------- like mean of groupA is ma -- like mean of groupB <br>\n",
    "------- then we will be find the distance of each point with respect to their means<br> \n",
    "-------then we need to look for which is the least distance name that the group have <br>\n",
    "-------suppose point c is having min distance with c but that point is n c -- so we will rename it <br>\n",
    "-------we will do this for each point and then the final groups <br>\n",
    "-------again for the groups it will find the mean <br>\n",
    "------- and do the same for each points again <br>\n",
    "------untill they reach a value when we  can say that they are stable in their groups <br>\n",
    "------this is what clustering means here<br> \n",
    "------now we know that a particular set of data belongs to each outher <br>that is we have same features with them<br>\n",
    "------and that is what<br>"
   ]
  },
  {
   "cell_type": "markdown",
   "metadata": {},
   "source": [
    "Library use here is from sklearn.cluster import kmeans <br>\n",
    "------------there are some factors such as <br>\n",
    "- Intertia -- like we find the distance of points in a group with the centroid of that group <br>\n",
    "- Then we find the sum of that -- if it is more means that data is not right \n",
    "- So we have  to consider like that \n",
    "----- Another factor is DUNN INDEX <br>\n",
    "- - - - DUNN INdex = min(inter cluster distance)/max(Intra cluster distance)  - it should be less as possible"
   ]
  },
  {
   "cell_type": "markdown",
   "metadata": {},
   "source": [
    "- if data is having high density  - then we have PCA(Pricipal component analysis) \n",
    "        -> it helps in reducing the dimensions of the data \n",
    "        -> so this will make the program faster \n",
    "        -> it finds the features\n",
    "        -> it actually looks for vicinity data so that everything comes under that data points "
   ]
  },
  {
   "cell_type": "markdown",
   "metadata": {},
   "source": [
    "- syntax <br>\n",
    "from sklearn.decomposition import PCA <br>\n",
    ".fit_transform(x)"
   ]
  },
  {
   "cell_type": "markdown",
   "metadata": {},
   "source": [
    "- <p style = 'color:red'> SOM - self organising maps -- they find their own group"
   ]
  },
  {
   "cell_type": "code",
   "execution_count": null,
   "metadata": {},
   "outputs": [],
   "source": []
  }
 ],
 "metadata": {
  "kernelspec": {
   "display_name": "Python 3",
   "language": "python",
   "name": "python3"
  },
  "language_info": {
   "codemirror_mode": {
    "name": "ipython",
    "version": 3
   },
   "file_extension": ".py",
   "mimetype": "text/x-python",
   "name": "python",
   "nbconvert_exporter": "python",
   "pygments_lexer": "ipython3",
   "version": "3.8.3"
  }
 },
 "nbformat": 4,
 "nbformat_minor": 4
}
